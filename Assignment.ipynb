{
 "cells": [
  {
   "cell_type": "markdown",
   "metadata": {},
   "source": [
    "# Section 1 : Concept-based image indexing\n",
    "- Here I have used the imageUrlStr of the product as a basis to identify if the product is a duplicate or not.\n",
    "- Algorithm: Hashing\n",
    "- Time complexity for finding duplicates in N images: O(N) (Disregarding hashing overhead)"
   ]
  },
  {
   "cell_type": "code",
   "execution_count": 1,
   "metadata": {},
   "outputs": [],
   "source": [
    "import pandas as pd\n"
   ]
  },
  {
   "cell_type": "code",
   "execution_count": 2,
   "metadata": {},
   "outputs": [
    {
     "data": {
      "text/plain": [
       "346902"
      ]
     },
     "execution_count": 2,
     "metadata": {},
     "output_type": "execute_result"
    }
   ],
   "source": [
    "df = pd.read_csv('data/datafile.csv', dtype=str) \n",
    "df.shape[0]"
   ]
  },
  {
   "cell_type": "code",
   "execution_count": 3,
   "metadata": {},
   "outputs": [
    {
     "data": {
      "text/html": [
       "<div>\n",
       "<style scoped>\n",
       "    .dataframe tbody tr th:only-of-type {\n",
       "        vertical-align: middle;\n",
       "    }\n",
       "\n",
       "    .dataframe tbody tr th {\n",
       "        vertical-align: top;\n",
       "    }\n",
       "\n",
       "    .dataframe thead th {\n",
       "        text-align: right;\n",
       "    }\n",
       "</style>\n",
       "<table border=\"1\" class=\"dataframe\">\n",
       "  <thead>\n",
       "    <tr style=\"text-align: right;\">\n",
       "      <th></th>\n",
       "      <th>productId</th>\n",
       "      <th>title</th>\n",
       "      <th>description</th>\n",
       "      <th>imageUrlStr</th>\n",
       "      <th>mrp</th>\n",
       "      <th>sellingPrice</th>\n",
       "      <th>specialPrice</th>\n",
       "      <th>productUrl</th>\n",
       "      <th>categories</th>\n",
       "      <th>productBrand</th>\n",
       "      <th>...</th>\n",
       "      <th>Unnamed: 43</th>\n",
       "      <th>Unnamed: 44</th>\n",
       "      <th>Unnamed: 45</th>\n",
       "      <th>Unnamed: 46</th>\n",
       "      <th>Unnamed: 47</th>\n",
       "      <th>Unnamed: 48</th>\n",
       "      <th>Unnamed: 49</th>\n",
       "      <th>Unnamed: 50</th>\n",
       "      <th>Unnamed: 51</th>\n",
       "      <th>Unnamed: 52</th>\n",
       "    </tr>\n",
       "  </thead>\n",
       "  <tbody>\n",
       "    <tr>\n",
       "      <th>0</th>\n",
       "      <td>TOPE9ABBZU3HZRHN</td>\n",
       "      <td>Citrine Casual Short Sleeve Printed Women's Pi...</td>\n",
       "      <td>This beautiful printed modal top from Citrine ...</td>\n",
       "      <td>http://img.fkcdn.com/image/top/r/h/n/1-1-wwtpw...</td>\n",
       "      <td>1099</td>\n",
       "      <td>329</td>\n",
       "      <td>329</td>\n",
       "      <td>http://dl.flipkart.com/dl/citrine-casual-short...</td>\n",
       "      <td>Apparels&gt;Women&gt;Western Wear&gt;Shirts, Tops &amp; Tun...</td>\n",
       "      <td>Citrine</td>\n",
       "      <td>...</td>\n",
       "      <td>NaN</td>\n",
       "      <td>NaN</td>\n",
       "      <td>NaN</td>\n",
       "      <td>NaN</td>\n",
       "      <td>NaN</td>\n",
       "      <td>NaN</td>\n",
       "      <td>NaN</td>\n",
       "      <td>NaN</td>\n",
       "      <td>NaN</td>\n",
       "      <td>NaN</td>\n",
       "    </tr>\n",
       "    <tr>\n",
       "      <th>1</th>\n",
       "      <td>TOPE9ABBBTJYDSQE</td>\n",
       "      <td>Citrine Casual Short Sleeve Printed Women's Pi...</td>\n",
       "      <td>This beautiful printed modal top from Citrine ...</td>\n",
       "      <td>http://img.fkcdn.com/image/top/r/h/n/1-1-wwtpw...</td>\n",
       "      <td>1099</td>\n",
       "      <td>329</td>\n",
       "      <td>329</td>\n",
       "      <td>http://dl.flipkart.com/dl/citrine-casual-short...</td>\n",
       "      <td>Apparels&gt;Women&gt;Western Wear&gt;Shirts, Tops &amp; Tun...</td>\n",
       "      <td>Citrine</td>\n",
       "      <td>...</td>\n",
       "      <td>NaN</td>\n",
       "      <td>NaN</td>\n",
       "      <td>NaN</td>\n",
       "      <td>NaN</td>\n",
       "      <td>NaN</td>\n",
       "      <td>NaN</td>\n",
       "      <td>NaN</td>\n",
       "      <td>NaN</td>\n",
       "      <td>NaN</td>\n",
       "      <td>NaN</td>\n",
       "    </tr>\n",
       "    <tr>\n",
       "      <th>2</th>\n",
       "      <td>TOPE9AZZSMSZFYAM</td>\n",
       "      <td>Leelan Casual Short Sleeve Solid Women's Black...</td>\n",
       "      <td>NaN</td>\n",
       "      <td>http://img.fkcdn.com/image/top/y/a/m/1-1-10009...</td>\n",
       "      <td>524</td>\n",
       "      <td>262</td>\n",
       "      <td>262</td>\n",
       "      <td>http://dl.flipkart.com/dl/leelan-casual-short-...</td>\n",
       "      <td>Apparels&gt;Women&gt;Western Wear&gt;Shirts, Tops &amp; Tun...</td>\n",
       "      <td>Leelan</td>\n",
       "      <td>...</td>\n",
       "      <td>NaN</td>\n",
       "      <td>NaN</td>\n",
       "      <td>NaN</td>\n",
       "      <td>NaN</td>\n",
       "      <td>NaN</td>\n",
       "      <td>NaN</td>\n",
       "      <td>NaN</td>\n",
       "      <td>NaN</td>\n",
       "      <td>NaN</td>\n",
       "      <td>NaN</td>\n",
       "    </tr>\n",
       "  </tbody>\n",
       "</table>\n",
       "<p>3 rows × 53 columns</p>\n",
       "</div>"
      ],
      "text/plain": [
       "          productId                                              title  \\\n",
       "0  TOPE9ABBZU3HZRHN  Citrine Casual Short Sleeve Printed Women's Pi...   \n",
       "1  TOPE9ABBBTJYDSQE  Citrine Casual Short Sleeve Printed Women's Pi...   \n",
       "2  TOPE9AZZSMSZFYAM  Leelan Casual Short Sleeve Solid Women's Black...   \n",
       "\n",
       "                                         description  \\\n",
       "0  This beautiful printed modal top from Citrine ...   \n",
       "1  This beautiful printed modal top from Citrine ...   \n",
       "2                                                NaN   \n",
       "\n",
       "                                         imageUrlStr   mrp sellingPrice  \\\n",
       "0  http://img.fkcdn.com/image/top/r/h/n/1-1-wwtpw...  1099          329   \n",
       "1  http://img.fkcdn.com/image/top/r/h/n/1-1-wwtpw...  1099          329   \n",
       "2  http://img.fkcdn.com/image/top/y/a/m/1-1-10009...   524          262   \n",
       "\n",
       "  specialPrice                                         productUrl  \\\n",
       "0          329  http://dl.flipkart.com/dl/citrine-casual-short...   \n",
       "1          329  http://dl.flipkart.com/dl/citrine-casual-short...   \n",
       "2          262  http://dl.flipkart.com/dl/leelan-casual-short-...   \n",
       "\n",
       "                                          categories productBrand  ...  \\\n",
       "0  Apparels>Women>Western Wear>Shirts, Tops & Tun...      Citrine  ...   \n",
       "1  Apparels>Women>Western Wear>Shirts, Tops & Tun...      Citrine  ...   \n",
       "2  Apparels>Women>Western Wear>Shirts, Tops & Tun...       Leelan  ...   \n",
       "\n",
       "  Unnamed: 43 Unnamed: 44 Unnamed: 45 Unnamed: 46 Unnamed: 47 Unnamed: 48  \\\n",
       "0         NaN         NaN         NaN         NaN         NaN         NaN   \n",
       "1         NaN         NaN         NaN         NaN         NaN         NaN   \n",
       "2         NaN         NaN         NaN         NaN         NaN         NaN   \n",
       "\n",
       "  Unnamed: 49 Unnamed: 50 Unnamed: 51 Unnamed: 52  \n",
       "0         NaN         NaN         NaN         NaN  \n",
       "1         NaN         NaN         NaN         NaN  \n",
       "2         NaN         NaN         NaN         NaN  \n",
       "\n",
       "[3 rows x 53 columns]"
      ]
     },
     "execution_count": 3,
     "metadata": {},
     "output_type": "execute_result"
    }
   ],
   "source": [
    "df.head(3)"
   ]
  },
  {
   "cell_type": "markdown",
   "metadata": {},
   "source": [
    "### Removing entries with duplicate productId. This is because productId is the primary key."
   ]
  },
  {
   "cell_type": "code",
   "execution_count": 4,
   "metadata": {},
   "outputs": [
    {
     "data": {
      "text/plain": [
       "346813"
      ]
     },
     "execution_count": 4,
     "metadata": {},
     "output_type": "execute_result"
    }
   ],
   "source": [
    "df = df.drop_duplicates(subset='productId', keep=\"last\")\n",
    "df = df.reset_index(drop=True)\n",
    "df.shape[0]"
   ]
  },
  {
   "cell_type": "markdown",
   "metadata": {},
   "source": [
    "### Iterate over dataset. Append as duplicate if url already in hash table. Add new entry otherwise."
   ]
  },
  {
   "cell_type": "code",
   "execution_count": 5,
   "metadata": {},
   "outputs": [],
   "source": [
    "distinct = {}\n",
    "for i in range(df.shape[0]):\n",
    "    url = df.imageUrlStr[i].split(';')[1]\n",
    "    if url in distinct:\n",
    "        distinct[url].append(i)\n",
    "    else:\n",
    "        distinct[url] = [i]"
   ]
  },
  {
   "cell_type": "code",
   "execution_count": 6,
   "metadata": {},
   "outputs": [
    {
     "data": {
      "text/plain": [
       "87816"
      ]
     },
     "execution_count": 6,
     "metadata": {},
     "output_type": "execute_result"
    }
   ],
   "source": [
    "len(distinct)"
   ]
  },
  {
   "cell_type": "code",
   "execution_count": 7,
   "metadata": {},
   "outputs": [],
   "source": [
    "dupes = {}\n",
    "for key, value in distinct.items():\n",
    "    if len(value) > 1:\n",
    "        dupes[df.productId[value[0]]] = [df.productId[x] for x in value[1:]]"
   ]
  },
  {
   "cell_type": "code",
   "execution_count": 8,
   "metadata": {},
   "outputs": [
    {
     "data": {
      "text/plain": [
       "75447"
      ]
     },
     "execution_count": 8,
     "metadata": {},
     "output_type": "execute_result"
    }
   ],
   "source": [
    "len(dupes)"
   ]
  },
  {
   "cell_type": "markdown",
   "metadata": {},
   "source": [
    "### Dumping output to a JSON file. "
   ]
  },
  {
   "cell_type": "code",
   "execution_count": 9,
   "metadata": {},
   "outputs": [],
   "source": [
    "import json\n",
    "json.dump(dupes, indent=4, fp=open(\"out.json\",\"w\"))"
   ]
  },
  {
   "cell_type": "markdown",
   "metadata": {},
   "source": [
    "# Section 2: Content based image similarity \n",
    "- I have created a module called image_util which has functions to check content similarity.\n",
    "- Algoritm: Scale-Invariant Feature Transform\n",
    "- Other methods like CNN driven Content-based Image Retrieval (CBIR) can also be used"
   ]
  },
  {
   "cell_type": "code",
   "execution_count": 10,
   "metadata": {},
   "outputs": [],
   "source": [
    "# import requests\n",
    "# import os\n",
    "\n",
    "# name_map = {}\n",
    "\n",
    "# def download_images():\n",
    "#     '''A script to download images (If required) to check for duplication.\n",
    "#     '''\n",
    "#     # Create a dictionary that maps url with image name\n",
    "#     i = 0\n",
    "#     for key, values in distinct.items():\n",
    "#         i += 1\n",
    "#         name_map[str(i) + '.jpeg'] = key\n",
    "\n",
    "#     # Download\n",
    "#     saved = os.listdir('data/images/')\n",
    "#     i = 0\n",
    "#     for key, value in name_map.items():\n",
    "#         i += 1\n",
    "#         print(i)\n",
    "\n",
    "#         url = value\n",
    "#         if key not in saved:\n",
    "#             page = requests.get(url)\n",
    "\n",
    "#             f_name = 'data/images/' + key\n",
    "#             with open(f_name, 'wb') as f:\n",
    "#                 f.write(page.content)"
   ]
  },
  {
   "cell_type": "markdown",
   "metadata": {},
   "source": [
    "### Driver function. Takes two 'products' as input and checks if they are duplicate\n",
    "- The function first checks if productID is same\n",
    "- It then check if imageUrlStr is same\n",
    "- This is followed by content similarity check using `are_similar` method of image_util\n",
    "    - `are_similar` method takes two images as input along with a threshold value (default = 60)\n",
    "    - It uses Scale-Invariant Feature Transform for calculating similar points.\n",
    "    - If the number of similar points > threshold, then image is considered to be similar"
   ]
  },
  {
   "cell_type": "code",
   "execution_count": 11,
   "metadata": {},
   "outputs": [],
   "source": [
    "import image_util\n",
    "def areDuplicates(df1, df2):\n",
    "    # Have same product Id\n",
    "    if df1.productId.iloc[0] == df2.productId.iloc[0]:\n",
    "        print('Same Product Id')\n",
    "        return True\n",
    "    \n",
    "    url1 = df1.imageUrlStr.iloc[0].split(';')[1]\n",
    "    url2 = df2.imageUrlStr.iloc[0].split(';')[1]\n",
    "    # Have same image url\n",
    "    if url1 == url2:\n",
    "        print('Same Image Url')\n",
    "        return True\n",
    "\n",
    "    # Check image content similarity\n",
    "    else:\n",
    "        image1 = image_util.url_to_image(url1)\n",
    "        image2 = image_util.url_to_image(url2)\n",
    "        print('Images Downloaded. Checking Similarity')     \n",
    "        return image_util.are_similar(image1, image2, threshold=60)\n",
    "        "
   ]
  },
  {
   "cell_type": "code",
   "execution_count": 12,
   "metadata": {},
   "outputs": [
    {
     "name": "stdout",
     "output_type": "stream",
     "text": [
      "Images Downloaded. Checking Similarity\n",
      "Number of good points:  2\n",
      "The images are different\n"
     ]
    },
    {
     "data": {
      "text/plain": [
       "False"
      ]
     },
     "execution_count": 12,
     "metadata": {},
     "output_type": "execute_result"
    }
   ],
   "source": [
    "df1 = df.iloc[[22208]]\n",
    "df2 = df.iloc[[22210]]\n",
    "areDuplicates(df1, df2)"
   ]
  },
  {
   "cell_type": "code",
   "execution_count": 13,
   "metadata": {},
   "outputs": [
    {
     "name": "stdout",
     "output_type": "stream",
     "text": [
      "Same Image Url\n"
     ]
    },
    {
     "data": {
      "text/plain": [
       "True"
      ]
     },
     "execution_count": 13,
     "metadata": {},
     "output_type": "execute_result"
    }
   ],
   "source": [
    "df1 = df.iloc[[22208]]\n",
    "df2 = df.iloc[[22216]]\n",
    "areDuplicates(df1, df2)"
   ]
  }
 ],
 "metadata": {
  "kernelspec": {
   "display_name": "cv",
   "language": "python",
   "name": "cv"
  },
  "language_info": {
   "codemirror_mode": {
    "name": "ipython",
    "version": 3
   },
   "file_extension": ".py",
   "mimetype": "text/x-python",
   "name": "python",
   "nbconvert_exporter": "python",
   "pygments_lexer": "ipython3",
   "version": "3.5.2"
  }
 },
 "nbformat": 4,
 "nbformat_minor": 2
}
